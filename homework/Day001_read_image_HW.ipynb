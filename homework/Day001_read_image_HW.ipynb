{
 "cells": [
  {
   "cell_type": "code",
   "execution_count": null,
   "metadata": {},
   "outputs": [],
   "source": [
    "import cv2\n",
    "import numpy as np\n",
    "\n",
    "data_path = 'data/lena.png'\n",
    "# 以彩色圖片方式載入\n",
    "image_color = cv2.imread(data_path, cv2.IMREAD_COLOR)\n",
    "\n",
    "# 分成三個通道\n",
    "B = image_color[:, :, 0]\n",
    "G = image_color[:, :, 1]\n",
    "R = image_color[:, :, 2]\n",
    "\n",
    "\n",
    "while True:\n",
    "    #cv2.imshow('RGB',image_color)\n",
    "    cv2.imshow('R_Channel',R)\n",
    "    cv2.imshow('G_Channel',G)\n",
    "    cv2.imshow('B_Channel',B)\n",
    "    k = cv2.waitKey(0)\n",
    "    if k == 27:\n",
    "        cv2.destroyAllWindows()\n",
    "        break"
   ]
  },
  {
   "cell_type": "code",
   "execution_count": null,
   "metadata": {},
   "outputs": [],
   "source": []
  },
  {
   "cell_type": "code",
   "execution_count": null,
   "metadata": {},
   "outputs": [],
   "source": []
  }
 ],
 "metadata": {
  "kernelspec": {
   "display_name": "Python 3",
   "language": "python",
   "name": "python3"
  },
  "language_info": {
   "codemirror_mode": {
    "name": "ipython",
    "version": 3
   },
   "file_extension": ".py",
   "mimetype": "text/x-python",
   "name": "python",
   "nbconvert_exporter": "python",
   "pygments_lexer": "ipython3",
   "version": "3.6.9"
  }
 },
 "nbformat": 4,
 "nbformat_minor": 2
}
